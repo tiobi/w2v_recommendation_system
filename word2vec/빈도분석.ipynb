{
 "cells": [
  {
   "cell_type": "markdown",
   "metadata": {},
   "source": [
    "# HANNANUM 형태소 분석기\n",
    "## 형태소별로 구분"
   ]
  },
  {
   "cell_type": "code",
   "execution_count": 4,
   "metadata": {},
   "outputs": [],
   "source": [
    "from konlpy.tag import Hannanum\n",
    "import pandas as pd\n",
    "import csv\n",
    "hannanum = Hannanum()\n",
    "\n",
    "f = open('instagram.csv', 'r', encoding = \"UTF-8\")\n",
    "data = csv.reader(f)\n",
    "f.close\n",
    "next(data)\n",
    "text = [] #buffer\n",
    "\n",
    "for line in data:\n",
    "     text.append(line[-1])\n",
    "        \n"
   ]
  },
  {
   "cell_type": "code",
   "execution_count": 11,
   "metadata": {},
   "outputs": [],
   "source": [
    "from pandas import DataFrame\n",
    "\n",
    "morph = []\n",
    "words = []\n",
    "for word in text:\n",
    "    x = hannanum.nouns(word) #형태소별로 구분 ( morphs, nouns, ... )\n",
    "    words.append(x)\n",
    "    \n",
    "for i in range(len(words)):\n",
    "    morph += words[i] #병합\n"
   ]
  },
  {
   "cell_type": "markdown",
   "metadata": {},
   "source": [
    "## txt 파일로 저장"
   ]
  },
  {
   "cell_type": "code",
   "execution_count": 12,
   "metadata": {},
   "outputs": [],
   "source": [
    "df = pd.DataFrame(morph)\n",
    "file=open('testing_txt.txt','w', encoding = \"utf-8\")\n",
    "\n",
    "for i in range(len(morph)):\n",
    "    file.write('%s\\n' %morph[i])\n",
    "file.close()"
   ]
  },
  {
   "cell_type": "code",
   "execution_count": 13,
   "metadata": {},
   "outputs": [],
   "source": [
    "df = pd.DataFrame(morph).to_csv(\"words_by_morphs.csv\", encoding = \"utf-8\") #저장, CSV 이용 시 ANSI로 변환 필요"
   ]
  },
  {
   "cell_type": "markdown",
   "metadata": {},
   "source": [
    "# 빈도분석"
   ]
  },
  {
   "cell_type": "code",
   "execution_count": 14,
   "metadata": {},
   "outputs": [],
   "source": [
    "import pandas as pd\n",
    "from konlpy.tag import Hannanum\n",
    "hannanum = Hannanum()  \n",
    "\n",
    "f = open(\"testing_txt.txt\", 'r', encoding = \"utf-8\")\n",
    "lines = f.readlines()\n",
    "f.close()"
   ]
  },
  {
   "cell_type": "code",
   "execution_count": 15,
   "metadata": {},
   "outputs": [],
   "source": [
    "temp = []\n",
    "for line in lines:\n",
    "    temp.append(line)\n",
    "    \n",
    "def flatten(l):\n",
    "    flatList = []\n",
    "    for elem in l:\n",
    "        if type(elem) == list:\n",
    "            for e in elem:\n",
    "                flatList.append(e)\n",
    "        else:\n",
    "            flatList.append(elem)\n",
    "    return flatList\n",
    "\n",
    "word_list = flatten(temp)\n",
    "word_list = pd.Series([x for x in word_list if len(x)>1])"
   ]
  },
  {
   "cell_type": "code",
   "execution_count": 16,
   "metadata": {},
   "outputs": [],
   "source": [
    "file=open('testing_txt.txt','w', encoding = \"utf-8\") \n",
    "data = word_list.value_counts()\n",
    "for i in range(len(data)):\n",
    "    file.write('%s\\n' %data[i])\n",
    "file.close()\n",
    "\n",
    "df = word_list.value_counts().to_frame().reset_index().to_csv(\"bindo.csv\", encoding = \"utf-8\")"
   ]
  }
 ],
 "metadata": {
  "kernelspec": {
   "display_name": "Python 3",
   "language": "python",
   "name": "python3"
  },
  "language_info": {
   "codemirror_mode": {
    "name": "ipython",
    "version": 3
   },
   "file_extension": ".py",
   "mimetype": "text/x-python",
   "name": "python",
   "nbconvert_exporter": "python",
   "pygments_lexer": "ipython3",
   "version": "3.7.0"
  }
 },
 "nbformat": 4,
 "nbformat_minor": 2
}
