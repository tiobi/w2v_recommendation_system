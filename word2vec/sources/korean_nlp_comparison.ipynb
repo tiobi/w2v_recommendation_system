{
 "cells": [
  {
   "cell_type": "markdown",
   "metadata": {},
   "source": [
    "## 0. KoNLPy의 태그 패키지에 포함된 클래스별 자연어 처리 비교\n",
    "#### 자연어 처리 과정\n",
    "##### 1. 정규화  normalization\n",
    "##### 2. 토큰화 tokenization\n",
    "##### 3. 어근화 stemming\n",
    "##### 4. 어근 추출 phrase extraction\n",
    "#### 각 클래스의 사용법은 https://konlpy.org/en/latest/api/konlpy.tag/ 참조\n",
    "#### 아래 예시는 konlpy 한국어 페이지에서 가져옴"
   ]
  },
  {
   "cell_type": "code",
   "execution_count": 66,
   "metadata": {},
   "outputs": [],
   "source": [
    "text = \"아이폰 기다리다 지쳐 애플공홈에서 언락폰질러버렸다. 6 + 128기가 실벜ㅋㅋ\""
   ]
  },
  {
   "cell_type": "markdown",
   "metadata": {},
   "source": [
    "## 1. Okt (open korean text) Class사용:\n",
    "### 장점:\n",
    "#### 자연어 처리 방식인 twitter_korean-py가 konlpy로 이식되면서 Twitter()로 변경, v0.5.0에서 Okt로 변경됨.\n",
    "#### Windows 에서 사용할 수 없는 Mecab Class를 제외하면 많은 데이터를 가장 효율적으로 처리할 수 있음. \n",
    "#### 정규화도 바로 할 수 있어서 덜 고통받음.\n",
    "### 단점: \n",
    "#### 품사만 판별하기 때문에 용언에 대한 형태소 분석을 하지 않고, 원형 복원이 어려움.\n",
    "#### 근데 원형 복원 필요 없음.\n"
   ]
  },
  {
   "cell_type": "code",
   "execution_count": 67,
   "metadata": {},
   "outputs": [
    {
     "name": "stdout",
     "output_type": "stream",
     "text": [
      "아이폰\n",
      "기다리다\n",
      "지치다\n",
      "애플\n",
      "공홈\n",
      "에서\n",
      "언\n",
      "락폰\n",
      "지르다\n",
      "버리다\n",
      ".\n",
      "6\n",
      "+\n",
      "128\n",
      "기\n",
      "가\n",
      "실버\n",
      "ㅋㅋ\n"
     ]
    }
   ],
   "source": [
    "from konlpy.tag import Okt\n",
    "okt = Okt()\n",
    "\n",
    "\n",
    "processed_text_okt = []\n",
    "for i in range(len(okt.pos(text, norm = True, stem = True))):\n",
    "    print(okt.pos(text, norm=True, stem=True)[i][0])\n",
    "    processed_text_okt.append(okt.pos(text, norm=True, stem=True)[i][0])"
   ]
  },
  {
   "cell_type": "markdown",
   "metadata": {},
   "source": [
    "## 2. Hannanum Class 사용: \n",
    "### 장점:\n",
    "#### D조에서 잘 써먹은 경험이 있음.\n",
    "### 단점:\n",
    "#### 다른 클라스보다 덜 세부적인 구분을 함.\n",
    "#### 특히 사전에 추가되지 않은 언어가 원하는 만큼 정제되지 않는 경우가 많음. \n",
    "#### 정규화도 안되는데 속도도 느림 ㅎ"
   ]
  },
  {
   "cell_type": "code",
   "execution_count": 71,
   "metadata": {
    "scrolled": true
   },
   "outputs": [
    {
     "name": "stdout",
     "output_type": "stream",
     "text": [
      "아이폰\n",
      "기다리\n",
      "다\n",
      "지치\n",
      "어\n",
      "애플공홈\n",
      "에서\n",
      "언락폰질러버렸다\n",
      ".\n",
      "6\n",
      "+\n",
      "128기\n",
      "가\n",
      "실벜ㅋㅋ\n"
     ]
    }
   ],
   "source": [
    "from konlpy.tag import Hannanum\n",
    "hannanum = Hannanum()\n",
    "\n",
    "\n",
    "for i in range(len(hannanum.morphs(text))):\n",
    "    print(hannanum.morphs(text)[i])"
   ]
  },
  {
   "cell_type": "markdown",
   "metadata": {},
   "source": [
    "## 3. Kkma Class 사용:\n",
    "### 장점:\n",
    "#### 가장 세부적으로 구분할 수 있음. \n",
    "### 단점:\n",
    "#### 너무 세부적으로 구분해서 후처리가 필요할 수 있음(귀찮음).\n",
    "#### 다른 클래스에 비해 긴 글 처리에 필요한 시간이 압도적으로 오래 걸림 (로딩 시간, 실행시간 포함). "
   ]
  },
  {
   "cell_type": "code",
   "execution_count": 73,
   "metadata": {
    "collapsed": true
   },
   "outputs": [
    {
     "ename": "java.lang.OutOfMemoryError",
     "evalue": "java.lang.OutOfMemoryError: GC overhead limit exceeded",
     "output_type": "error",
     "traceback": [
      "\u001b[1;31m---------------------------------------------------------------------------\u001b[0m",
      "\u001b[1;31mException\u001b[0m                                 Traceback (most recent call last)",
      "\u001b[1;32mE:\\anaconda\\anaocnda\\lib\\site-packages\\_jpype.cp37-win_amd64.pyd\u001b[0m in \u001b[0;36mkr.lucypark.kkma.KkmaInterface.morphAnalyzer\u001b[1;34m()\u001b[0m\n",
      "\u001b[1;32mE:\\anaconda\\anaocnda\\lib\\site-packages\\_jpype.cp37-win_amd64.pyd\u001b[0m in \u001b[0;36morg.snu.ids.ha.ma.MorphemeAnalyzer.<init>\u001b[1;34m()\u001b[0m\n",
      "\u001b[1;32mE:\\anaconda\\anaocnda\\lib\\site-packages\\_jpype.cp37-win_amd64.pyd\u001b[0m in \u001b[0;36morg.snu.ids.ha.dic.Dictionary.getInstance\u001b[1;34m()\u001b[0m\n",
      "\u001b[1;32mE:\\anaconda\\anaocnda\\lib\\site-packages\\_jpype.cp37-win_amd64.pyd\u001b[0m in \u001b[0;36morg.snu.ids.ha.dic.Dictionary.<init>\u001b[1;34m()\u001b[0m\n",
      "\u001b[1;32mE:\\anaconda\\anaocnda\\lib\\site-packages\\_jpype.cp37-win_amd64.pyd\u001b[0m in \u001b[0;36morg.snu.ids.ha.dic.Dictionary.loadDic\u001b[1;34m()\u001b[0m\n",
      "\u001b[1;32mE:\\anaconda\\anaocnda\\lib\\site-packages\\_jpype.cp37-win_amd64.pyd\u001b[0m in \u001b[0;36morg.snu.ids.ha.dic.Dictionary.loadSimple\u001b[1;34m()\u001b[0m\n",
      "\u001b[1;32mE:\\anaconda\\anaocnda\\lib\\site-packages\\_jpype.cp37-win_amd64.pyd\u001b[0m in \u001b[0;36morg.snu.ids.ha.dic.Dictionary.load\u001b[1;34m()\u001b[0m\n",
      "\u001b[1;32mE:\\anaconda\\anaocnda\\lib\\site-packages\\_jpype.cp37-win_amd64.pyd\u001b[0m in \u001b[0;36morg.snu.ids.ha.dic.Dictionary.add\u001b[1;34m()\u001b[0m\n",
      "\u001b[1;32mE:\\anaconda\\anaocnda\\lib\\site-packages\\_jpype.cp37-win_amd64.pyd\u001b[0m in \u001b[0;36morg.snu.ids.ha.dic.SpacingPDDictionary.getProb\u001b[1;34m()\u001b[0m\n",
      "\u001b[1;32mE:\\anaconda\\anaocnda\\lib\\site-packages\\_jpype.cp37-win_amd64.pyd\u001b[0m in \u001b[0;36mjava.lang.String.replaceAll\u001b[1;34m()\u001b[0m\n",
      "\u001b[1;32mE:\\anaconda\\anaocnda\\lib\\site-packages\\_jpype.cp37-win_amd64.pyd\u001b[0m in \u001b[0;36mjava.util.regex.Pattern.compile\u001b[1;34m()\u001b[0m\n",
      "\u001b[1;32mE:\\anaconda\\anaocnda\\lib\\site-packages\\_jpype.cp37-win_amd64.pyd\u001b[0m in \u001b[0;36mjava.util.regex.Pattern.<init>\u001b[1;34m()\u001b[0m\n",
      "\u001b[1;32mE:\\anaconda\\anaocnda\\lib\\site-packages\\_jpype.cp37-win_amd64.pyd\u001b[0m in \u001b[0;36mjava.util.regex.Pattern.compile\u001b[1;34m()\u001b[0m\n",
      "\u001b[1;31mException\u001b[0m: Java Exception",
      "\nThe above exception was the direct cause of the following exception:\n",
      "\u001b[1;31mjava.lang.OutOfMemoryError\u001b[0m                Traceback (most recent call last)",
      "\u001b[1;32m<ipython-input-73-e78f50ae4394>\u001b[0m in \u001b[0;36m<module>\u001b[1;34m()\u001b[0m\n\u001b[0;32m      2\u001b[0m \u001b[0mkkma\u001b[0m \u001b[1;33m=\u001b[0m \u001b[0mKkma\u001b[0m\u001b[1;33m(\u001b[0m\u001b[1;33m)\u001b[0m\u001b[1;33m\u001b[0m\u001b[0m\n\u001b[0;32m      3\u001b[0m \u001b[1;33m\u001b[0m\u001b[0m\n\u001b[1;32m----> 4\u001b[1;33m \u001b[1;32mfor\u001b[0m \u001b[0mi\u001b[0m \u001b[1;32min\u001b[0m \u001b[0mrange\u001b[0m\u001b[1;33m(\u001b[0m\u001b[0mlen\u001b[0m\u001b[1;33m(\u001b[0m\u001b[0mkkma\u001b[0m\u001b[1;33m.\u001b[0m\u001b[0mmorphs\u001b[0m\u001b[1;33m(\u001b[0m\u001b[0mtext\u001b[0m\u001b[1;33m)\u001b[0m\u001b[1;33m)\u001b[0m\u001b[1;33m)\u001b[0m\u001b[1;33m:\u001b[0m\u001b[1;33m\u001b[0m\u001b[0m\n\u001b[0m\u001b[0;32m      5\u001b[0m     \u001b[0mprint\u001b[0m\u001b[1;33m(\u001b[0m\u001b[0mkkma\u001b[0m\u001b[1;33m.\u001b[0m\u001b[0mmorphs\u001b[0m\u001b[1;33m(\u001b[0m\u001b[0mtext\u001b[0m\u001b[1;33m)\u001b[0m\u001b[1;33m)\u001b[0m\u001b[1;33m\u001b[0m\u001b[0m\n",
      "\u001b[1;32mE:\\anaconda\\anaocnda\\lib\\site-packages\\konlpy\\tag\\_kkma.py\u001b[0m in \u001b[0;36mmorphs\u001b[1;34m(self, phrase)\u001b[0m\n\u001b[0;32m     82\u001b[0m         \u001b[1;34m\"\"\"Parse phrase to morphemes.\"\"\"\u001b[0m\u001b[1;33m\u001b[0m\u001b[0m\n\u001b[0;32m     83\u001b[0m \u001b[1;33m\u001b[0m\u001b[0m\n\u001b[1;32m---> 84\u001b[1;33m         \u001b[1;32mreturn\u001b[0m \u001b[1;33m[\u001b[0m\u001b[0ms\u001b[0m \u001b[1;32mfor\u001b[0m \u001b[0ms\u001b[0m\u001b[1;33m,\u001b[0m \u001b[0mt\u001b[0m \u001b[1;32min\u001b[0m \u001b[0mself\u001b[0m\u001b[1;33m.\u001b[0m\u001b[0mpos\u001b[0m\u001b[1;33m(\u001b[0m\u001b[0mphrase\u001b[0m\u001b[1;33m)\u001b[0m\u001b[1;33m]\u001b[0m\u001b[1;33m\u001b[0m\u001b[0m\n\u001b[0m\u001b[0;32m     85\u001b[0m \u001b[1;33m\u001b[0m\u001b[0m\n\u001b[0;32m     86\u001b[0m     \u001b[1;32mdef\u001b[0m \u001b[0msentences\u001b[0m\u001b[1;33m(\u001b[0m\u001b[0mself\u001b[0m\u001b[1;33m,\u001b[0m \u001b[0mphrase\u001b[0m\u001b[1;33m)\u001b[0m\u001b[1;33m:\u001b[0m\u001b[1;33m\u001b[0m\u001b[0m\n",
      "\u001b[1;32mE:\\anaconda\\anaocnda\\lib\\site-packages\\konlpy\\tag\\_kkma.py\u001b[0m in \u001b[0;36mpos\u001b[1;34m(self, phrase, flatten, join)\u001b[0m\n\u001b[0;32m     53\u001b[0m         \"\"\"\n\u001b[0;32m     54\u001b[0m \u001b[1;33m\u001b[0m\u001b[0m\n\u001b[1;32m---> 55\u001b[1;33m         \u001b[0msentences\u001b[0m \u001b[1;33m=\u001b[0m \u001b[0mself\u001b[0m\u001b[1;33m.\u001b[0m\u001b[0mjki\u001b[0m\u001b[1;33m.\u001b[0m\u001b[0mmorphAnalyzer\u001b[0m\u001b[1;33m(\u001b[0m\u001b[0mphrase\u001b[0m\u001b[1;33m)\u001b[0m\u001b[1;33m\u001b[0m\u001b[0m\n\u001b[0m\u001b[0;32m     56\u001b[0m         \u001b[0mmorphemes\u001b[0m \u001b[1;33m=\u001b[0m \u001b[1;33m[\u001b[0m\u001b[1;33m]\u001b[0m\u001b[1;33m\u001b[0m\u001b[0m\n\u001b[0;32m     57\u001b[0m         \u001b[1;32mif\u001b[0m \u001b[1;32mnot\u001b[0m \u001b[0msentences\u001b[0m\u001b[1;33m:\u001b[0m\u001b[1;33m\u001b[0m\u001b[0m\n",
      "\u001b[1;31mjava.lang.OutOfMemoryError\u001b[0m: java.lang.OutOfMemoryError: GC overhead limit exceeded"
     ]
    }
   ],
   "source": [
    "# from konlpy.tag import Kkma\n",
    "# kkma = Kkma()\n",
    "\n",
    "# for i in range(len(kkma.morphs(text))):\n",
    "#     print(kkma.morphs(text))\n",
    "\n",
    "# 이 짧은 거 돌리다가 cpu 박살날 뻔 했씁니다. 자신 없으면 돌리지 마세요!"
   ]
  },
  {
   "cell_type": "markdown",
   "metadata": {},
   "source": [
    "## 4. Mecab Class 사용:\n",
    "### 장점: \n",
    "#### 자연어 처리 속도가 가장 빠름\n",
    "### 단점:\n",
    "#### 제가 맥이 없어서 실험을 못해봄"
   ]
  },
  {
   "cell_type": "markdown",
   "metadata": {},
   "source": [
    "## 5. 결론:\n",
    "### Okt 씁시다!"
   ]
  }
 ],
 "metadata": {
  "kernelspec": {
   "display_name": "Python 3",
   "language": "python",
   "name": "python3"
  },
  "language_info": {
   "codemirror_mode": {
    "name": "ipython",
    "version": 3
   },
   "file_extension": ".py",
   "mimetype": "text/x-python",
   "name": "python",
   "nbconvert_exporter": "python",
   "pygments_lexer": "ipython3",
   "version": "3.7.0"
  }
 },
 "nbformat": 4,
 "nbformat_minor": 2
}
