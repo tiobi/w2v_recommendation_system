{
 "cells": [
  {
   "cell_type": "code",
   "execution_count": 1,
   "metadata": {},
   "outputs": [],
   "source": [
    "import pandas as pd\n",
    "df = pd.read_csv('instagram.csv')\n",
    "\n",
    "\n",
    "\n",
    "del_list = ['#아이폰', '무료투자금', '최대55000원', '#カフェ', '#カフェ巡り', '#いいね返し' , '#おうち時間',\\\n",
    "            '#カフェ好きな人と?がりたい', '#韓?好きな人と?がりたい', '#韓?カフェ', '#カフェスタグラム',\\\n",
    "           '코인월드[경제점]', '#お?落さんと?がりたい', '#コ?ヒ?', '#いいね', '031-411-4606', '실장', '#淡色女子'\\\n",
    "           '#jkブランド', '#韓?旅行', '010-2319-6240', '시술']\n",
    "\n",
    "\n",
    "\n",
    "for i in range(1, len(del_list)):\n",
    "    temp = (\"cd\" + str(i))\n",
    "    temp = df['본문'].str.contains(del_list[i], na = False)\n",
    "    df.loc[temp, 'checked'] = 1\n",
    "    \n",
    "delete_list = df[df['checked'] == 1].index\n",
    "df = df.drop(delete_list)\n",
    "df.drop(['checked'], axis='columns',inplace=True)\n",
    "df.to_csv('instagram_cleaned.csv', index=False, encoding='utf-8-sig')"
   ]
  }
 ],
 "metadata": {
  "kernelspec": {
   "display_name": "Python 3",
   "language": "python",
   "name": "python3"
  },
  "language_info": {
   "codemirror_mode": {
    "name": "ipython",
    "version": 3
   },
   "file_extension": ".py",
   "mimetype": "text/x-python",
   "name": "python",
   "nbconvert_exporter": "python",
   "pygments_lexer": "ipython3",
   "version": "3.7.0"
  }
 },
 "nbformat": 4,
 "nbformat_minor": 2
}
