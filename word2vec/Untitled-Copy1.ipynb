{
 "cells": [
  {
   "cell_type": "code",
   "execution_count": 2,
   "metadata": {},
   "outputs": [],
   "source": [
    "import pandas as pd\n",
    "import glob\n",
    "import numpy as np\n",
    "import nltk\n",
    "import csv\n",
    "from nltk.corpus import stopwords\n",
    "from nltk.stem.porter import PorterStemmer\n",
    "from nltk.tokenize import RegexpTokenizer, word_tokenize, sent_tokenize\n",
    "from gensim.models.word2vec import Word2Vec\n",
    "from konlpy.tag import Twitter\n",
    "import re\n",
    "\n",
    "file_name = \"연설문.txt\"\n",
    "f = open(file_name, 'r')\n",
    "data = csv.reader(f)\n",
    "f.close\n",
    "next(data)\n",
    "sns_text = []\n",
    "for row in data:\n",
    "    sns_text.append(str(row[-1]))\n",
    "    \n",
    "tokenized_text = []\n",
    "for lines in sns_text:\n",
    "    tokenized_text.append(sent_tokenize(str(sns_text)))\n",
    "embedding_model = Word2Vec(tokenized_text, size = 100, window = 2, min_count = 1, workers = 2, iter= 100, sg = 1) "
   ]
  },
  {
   "cell_type": "code",
   "execution_count": 9,
   "metadata": {},
   "outputs": [
    {
     "data": {
      "text/plain": [
       "{\"['존경하고 사랑하는 국민 여러분.\": <gensim.models.keyedvectors.Vocab at 0x2c942290ba8>,\n",
       " '감사합니다.': <gensim.models.keyedvectors.Vocab at 0x2c942290be0>,\n",
       " '국민 여러분의 위대한 선택에 머리 숙여 깊이 감사드립니다.': <gensim.models.keyedvectors.Vocab at 0x2c942290c50>,\n",
       " '저는 오늘 대한민국 제 19대 대통령으로서 새로운 대한민국을 향해 첫걸음을 내딛습니다.': <gensim.models.keyedvectors.Vocab at 0x2c942290c18>,\n",
       " '지금 제 두 어깨는 국민 여러분으로부터 부여받은 막중한 소명감으로 무겁습니다.': <gensim.models.keyedvectors.Vocab at 0x2c942290cf8>,\n",
       " '지금 제 가슴은 한번도 경험하지 못한 나라를 만들겠다는 열정으로 뜨겁습니다.': <gensim.models.keyedvectors.Vocab at 0x2c942290cc0>,\n",
       " '그리고 지금 제 머리는 통합과 공존의 새로운 세상을 열어갈 청사진으로 가득 차 있습니다.': <gensim.models.keyedvectors.Vocab at 0x2c942290c88>,\n",
       " \"', '우리가 만들어가려는 새로운 대한민국은 숱한 좌절과 패배에도 불구하고 우리의 선대들이 일관되게 추구했던 나라입니다.\": <gensim.models.keyedvectors.Vocab at 0x2c942290d30>,\n",
       " '또 많은 희생과 헌신을 감내하며 우리 젊은이들이 그토록 이루고 싶어 했던 나라입니다.': <gensim.models.keyedvectors.Vocab at 0x2c942290d68>,\n",
       " '그런 대한민국을 만들기 위해 저는 역사와 국민 앞에 두렵지만 겸허한 마음으로 대한민국 제 19대 대통령으로서의 책임과 소명을 다할 것임을 천명합니다.': <gensim.models.keyedvectors.Vocab at 0x2c942290da0>,\n",
       " \"', '함께 선거를 치른 후보들께 감사의 말씀과 함께 심심한 위로를 전합니다.\": <gensim.models.keyedvectors.Vocab at 0x2c942290dd8>,\n",
       " '이번 선거에서는 승자도 패자도 없습니다.': <gensim.models.keyedvectors.Vocab at 0x2c942290e48>,\n",
       " '우리는 새로운 대한민국을 함께 이끌어가야 할 동반자입니다.': <gensim.models.keyedvectors.Vocab at 0x2c942290e10>,\n",
       " '이제 치열했던 경쟁의 순간을 뒤로하고 함께 손을 맞잡고 앞으로 전진해야 합니다.': <gensim.models.keyedvectors.Vocab at 0x2c942290e80>,\n",
       " \"', ' 지난 몇 달 우리는 유례없는 정치적 격변기를 보냈습니다.\": <gensim.models.keyedvectors.Vocab at 0x2c942290ef0>,\n",
       " '정치는 혼란스러웠지만 국민은 위대했습니다.': <gensim.models.keyedvectors.Vocab at 0x2c942290f28>,\n",
       " '현직 대통령의 탄핵과 구속 앞에서도 국민들이 대한민국의 앞길을 열어주셨습니다.': <gensim.models.keyedvectors.Vocab at 0x2c942290eb8>,\n",
       " '우리 국민들은 좌절하지 않고 오히려 이를 전화위복으로 승화시켜 마침내 오늘 새로운 세상을 열었습니다.': <gensim.models.keyedvectors.Vocab at 0x2c942290f98>,\n",
       " '대한민국의 위대함은 국민의 위대함입니다.': <gensim.models.keyedvectors.Vocab at 0x2c942290f60>,\n",
       " '그리고 이번 대통령 선거에서 우리 국민들은 또 하나의 역사를 만들어주셨습니다.': <gensim.models.keyedvectors.Vocab at 0x2c942290fd0>,\n",
       " '전국 각지에서 골고른 지지로 새로운 대통령을 선택해주셨습니다.': <gensim.models.keyedvectors.Vocab at 0x2c942157be0>,\n",
       " \"', ' 우리의 국민으로 섬기겠습니다.\": <gensim.models.keyedvectors.Vocab at 0x2c942157e80>,\n",
       " '저는 감히 약속드립니다.': <gensim.models.keyedvectors.Vocab at 0x2c942157c50>,\n",
       " '2017년 5월 10일 이날은 진정한 국민 통합이 시작된 날로 역사에 기록될 것입니다.': <gensim.models.keyedvectors.Vocab at 0x2c942157d68>,\n",
       " \"', '존경하고 사랑하는 국민 여러분.\": <gensim.models.keyedvectors.Vocab at 0x2c942157c88>,\n",
       " \"', '힘들었던 지난 세월 국민들은 이게 나라냐고 물었습니다.\": <gensim.models.keyedvectors.Vocab at 0x2c942157b00>,\n",
       " '대통령 문재인은 바로 그 질문에서 새로 시작하겠습니다.': <gensim.models.keyedvectors.Vocab at 0x2c942157c18>,\n",
       " '오늘부터 나라를 나라답게 만드는 대통령이 되겠습니다.': <gensim.models.keyedvectors.Vocab at 0x2c9422d5048>,\n",
       " '구시대의 잘못된 관행과 과감히 결별하겠습니다.': <gensim.models.keyedvectors.Vocab at 0x2c9422d5080>,\n",
       " '대통령부터 새로워지겠습니다.': <gensim.models.keyedvectors.Vocab at 0x2c9422d50b8>,\n",
       " \"', '우선 권위적인 대통령 문화를 청산하겠습니다.\": <gensim.models.keyedvectors.Vocab at 0x2c9422d50f0>,\n",
       " '준비를 마치는 대로 지금의 청와대에서 나와 광화문 대통령 시대를 열겠습니다.': <gensim.models.keyedvectors.Vocab at 0x2c9422d5128>,\n",
       " '참모들과 머리와 어깨를 맞대고 토론하겠습니다.': <gensim.models.keyedvectors.Vocab at 0x2c9422d5160>,\n",
       " '국민과 수시로 소통하는 대통령이 되겠습니다.': <gensim.models.keyedvectors.Vocab at 0x2c9422d5198>,\n",
       " '주요사안은 대통령이 직접 언론에 브리핑하겠습니다.': <gensim.models.keyedvectors.Vocab at 0x2c9422d51d0>,\n",
       " '퇴근길에는 시장에 들러 마주치는 시민들과 격이 없는 대화를 나누겠습니다.': <gensim.models.keyedvectors.Vocab at 0x2c9422d5208>,\n",
       " '때로는 광화문 광장에서 대토론회를 열겠습니다.': <gensim.models.keyedvectors.Vocab at 0x2c9422d5240>,\n",
       " \"', '대통령의 제왕적 권력을 최대한 나누겠습니다.\": <gensim.models.keyedvectors.Vocab at 0x2c9422d5278>,\n",
       " '권력기관은 정치로부터 완전히 독립시키겠습니다.': <gensim.models.keyedvectors.Vocab at 0x2c9422d52b0>,\n",
       " '그 어떤 기관도 무소불위의 권력을 행사할 수 없도록 견제장치를 만들겠습니다.': <gensim.models.keyedvectors.Vocab at 0x2c9422d52e8>,\n",
       " '낮은 자세로 일하겠습니다.': <gensim.models.keyedvectors.Vocab at 0x2c9422d5320>,\n",
       " '국민과 눈높이를 맞추는 대통령이 되겠습니다.': <gensim.models.keyedvectors.Vocab at 0x2c9422d5358>,\n",
       " '안보위기도 서둘러 해결하겠습니다.': <gensim.models.keyedvectors.Vocab at 0x2c9422d5390>,\n",
       " '한반도의 평화를 위해 동분서주하겠습니다.': <gensim.models.keyedvectors.Vocab at 0x2c9422d53c8>,\n",
       " '필요하면 곧바로 워싱턴으로 날아가겠습니다.': <gensim.models.keyedvectors.Vocab at 0x2c9422d5400>,\n",
       " '베이징과 도쿄에도 가고 여건이 조성되면 평양에도 가겠습니다.': <gensim.models.keyedvectors.Vocab at 0x2c9422d5438>,\n",
       " '한반도의 평화정착을 위해서라면 제가 할 수 있는 모든 일을 다 하겠습니다.': <gensim.models.keyedvectors.Vocab at 0x2c9422d5470>,\n",
       " '한미동맹은 더욱 강화하겠습니다.': <gensim.models.keyedvectors.Vocab at 0x2c9422d54a8>,\n",
       " '한편으로 사드문제 해결을 위해 미국 및 중국과 진지하게 협상하겠습니다.': <gensim.models.keyedvectors.Vocab at 0x2c9422d54e0>,\n",
       " '튼튼한 안보는 막강한 국방력에서 비롯됩니다.': <gensim.models.keyedvectors.Vocab at 0x2c9422d5518>,\n",
       " '자주국방력을 강화하기 위해 노력하겠습니다.': <gensim.models.keyedvectors.Vocab at 0x2c9422d5550>,\n",
       " '북핵문제를 해결할 토대도 마련하겠습니다.': <gensim.models.keyedvectors.Vocab at 0x2c9422d5588>,\n",
       " '동북아 평화구조를 정착시킴으로써 한반도 긴장완화의 전기를 마련하겠습니다.': <gensim.models.keyedvectors.Vocab at 0x2c9422d55c0>,\n",
       " \"', '분열과 갈등의 정치도 바꾸겠습니다.\": <gensim.models.keyedvectors.Vocab at 0x2c9422d55f8>,\n",
       " '보수와 진보의 갈등은 끝나야 합니다.': <gensim.models.keyedvectors.Vocab at 0x2c9422d5630>,\n",
       " '대통령이 나서서 직접 대화하겠습니다.': <gensim.models.keyedvectors.Vocab at 0x2c9422d5668>,\n",
       " '야당은 국정운영의 동반자입니다.': <gensim.models.keyedvectors.Vocab at 0x2c9422d56a0>,\n",
       " '대화를 정례화하고 수시로 만나겠습니다.': <gensim.models.keyedvectors.Vocab at 0x2c9422d56d8>,\n",
       " '전국적으로 고르게 인사를 등용하겠습니다.': <gensim.models.keyedvectors.Vocab at 0x2c9422d5710>,\n",
       " '능력과 적재적소를 인사의 대원칙으로 삼겠습니다.': <gensim.models.keyedvectors.Vocab at 0x2c9422d5748>,\n",
       " '저에 대한 지지여부와 상관없이 유능한 인재를 삼고초려해서 이를 맡기겠습니다.': <gensim.models.keyedvectors.Vocab at 0x2c9422d5780>,\n",
       " \"', '나라 안팎으로 경제가 어렵습니다.\": <gensim.models.keyedvectors.Vocab at 0x2c9422d57b8>,\n",
       " '민생도 어렵습니다.': <gensim.models.keyedvectors.Vocab at 0x2c9422d57f0>,\n",
       " '선거과정에서 약속했듯이 무엇보다 먼저 일자리를 챙기겠습니다.': <gensim.models.keyedvectors.Vocab at 0x2c9422d5828>,\n",
       " '동시에 재벌개혁에도 앞장서겠습니다.': <gensim.models.keyedvectors.Vocab at 0x2c9422d5860>,\n",
       " '문재인 정부하에서는 정경유착이라는 낱말이 완전히 사라질 것입니다.': <gensim.models.keyedvectors.Vocab at 0x2c9422d5898>,\n",
       " '지역과 계층과 세대간 갈등을 해소하고 비정규직 문제도 해결의 길을 모색하겠습니다.': <gensim.models.keyedvectors.Vocab at 0x2c9422d58d0>,\n",
       " '차별없는 세상을 만들겠습니다.': <gensim.models.keyedvectors.Vocab at 0x2c9422d5908>,\n",
       " \"', '거듭 말씀드립니다.\": <gensim.models.keyedvectors.Vocab at 0x2c9422d5940>,\n",
       " '문재인과 더불어민주당 정부에서 기회는 평등할 것입니다.': <gensim.models.keyedvectors.Vocab at 0x2c9422d5978>,\n",
       " '과정은 공정할 것입니다.': <gensim.models.keyedvectors.Vocab at 0x2c9422d59b0>,\n",
       " '결과는 정의로울 것입니다.': <gensim.models.keyedvectors.Vocab at 0x2c9422d59e8>,\n",
       " \"', '존경하는 국민 여러분.\": <gensim.models.keyedvectors.Vocab at 0x2c9422d5a20>,\n",
       " \"', '이번 대통령 선거는 전임 대통령의 탄핵으로 치러졌습니다.\": <gensim.models.keyedvectors.Vocab at 0x2c9422d5a58>,\n",
       " '불행한 대통령의 역사가 계속되고 있습니다.': <gensim.models.keyedvectors.Vocab at 0x2c9422d5a90>,\n",
       " '이번 선거를 계기로 이 불행한 역사는 종식되어야 합니다.': <gensim.models.keyedvectors.Vocab at 0x2c9422d5ac8>,\n",
       " \"', '저는 대한민국 대통령의 새로운 모범이 되겠습니다.\": <gensim.models.keyedvectors.Vocab at 0x2c9422d5b00>,\n",
       " '국민과 역사가 평가하는 성공한 대통령이 되기 위해 최선을 다하겠습니다.': <gensim.models.keyedvectors.Vocab at 0x2c9422d5b38>,\n",
       " '그래서 지지와 성원에 보답하겠습니다.': <gensim.models.keyedvectors.Vocab at 0x2c9422d5b70>,\n",
       " '깨끗한 대통령이 되겠습니다.': <gensim.models.keyedvectors.Vocab at 0x2c9422d5ba8>,\n",
       " '빈손으로 취임하고 빈손으로 퇴임하는 대통령이 되겠습니다.': <gensim.models.keyedvectors.Vocab at 0x2c9422d5be0>,\n",
       " '훗날 고향으로 돌아가 평범한 시민이 되어 이웃과 정을 나눌 수 있는 대통령이겠습니다.': <gensim.models.keyedvectors.Vocab at 0x2c9422d5c18>,\n",
       " '국민 여러분의 자랑으로 남겠습니다.': <gensim.models.keyedvectors.Vocab at 0x2c9422d5c50>,\n",
       " \"', '약속을 지키는 솔직한 대통령이 되겠습니다.\": <gensim.models.keyedvectors.Vocab at 0x2c9422d5c88>,\n",
       " '선거과정에서 제가 했던 약속들을 꼼꼼하게 챙기겠습니다.': <gensim.models.keyedvectors.Vocab at 0x2c9422d5cc0>,\n",
       " '대통령부터 신뢰받는 정치를 솔선수범해야 진정한 정치발전이 가능할 것입니다.': <gensim.models.keyedvectors.Vocab at 0x2c9422d5cf8>,\n",
       " '불가능한 일을 하겠다고 큰소리치지 않겠습니다.': <gensim.models.keyedvectors.Vocab at 0x2c9422d5d30>,\n",
       " '잘못한 일은 잘못했다고 말씀드리겠습니다.': <gensim.models.keyedvectors.Vocab at 0x2c9422d5d68>,\n",
       " '거짓으로 불리한 여론을 덮지 않겠습니다.': <gensim.models.keyedvectors.Vocab at 0x2c9422d5da0>,\n",
       " \"', '공정한 대통령이 되겠습니다.\": <gensim.models.keyedvectors.Vocab at 0x2c9422d5dd8>,\n",
       " '특권과 반칙이 없는 세상을 만들겠습니다.': <gensim.models.keyedvectors.Vocab at 0x2c9422d5e10>,\n",
       " '상식대로 해야 이득을 보는 세상을 만들겠습니다.': <gensim.models.keyedvectors.Vocab at 0x2c9422d5e48>,\n",
       " '이웃의 아픔을 외면하지 않겠습니다.': <gensim.models.keyedvectors.Vocab at 0x2c9422d5e80>,\n",
       " '소외된 국민이 없도록 노심초사하는 마음으로 항상 살피겠습니다.': <gensim.models.keyedvectors.Vocab at 0x2c9422d5eb8>,\n",
       " '국민들의 서러운 눈물을 닦아드리는 대통령이 되겠습니다.': <gensim.models.keyedvectors.Vocab at 0x2c9422d5ef0>,\n",
       " \"', '소통하는 대통령이 되겠습니다.\": <gensim.models.keyedvectors.Vocab at 0x2c9422d5f28>,\n",
       " '낮은 사람 겸손한 권력이 되어 가장 강력한 나라를 만들겠습니다.': <gensim.models.keyedvectors.Vocab at 0x2c9422d5f60>,\n",
       " '군림하고 통치하는 대통령이 아니라 대화하고 소통하는 대통령이 되겠습니다.': <gensim.models.keyedvectors.Vocab at 0x2c9422d5f98>,\n",
       " '광화문 시대 대통령이 되어 국민들과 가까운 곳에 있겠습니다.': <gensim.models.keyedvectors.Vocab at 0x2c9422d5fd0>,\n",
       " \"따뜻한 대통령 친구같은 대통령으로 남겠습니다.']\": <gensim.models.keyedvectors.Vocab at 0x2c9422d7048>}"
      ]
     },
     "execution_count": 9,
     "metadata": {},
     "output_type": "execute_result"
    }
   ],
   "source": [
    "embedding_model.wv.vocab"
   ]
  },
  {
   "cell_type": "code",
   "execution_count": 8,
   "metadata": {},
   "outputs": [
    {
     "name": "stdout",
     "output_type": "stream",
     "text": [
      "국민\n"
     ]
    },
    {
     "ename": "KeyError",
     "evalue": "\"word '국민' not in vocabulary\"",
     "output_type": "error",
     "traceback": [
      "\u001b[1;31m---------------------------------------------------------------------------\u001b[0m",
      "\u001b[1;31mKeyError\u001b[0m                                  Traceback (most recent call last)",
      "\u001b[1;32m<ipython-input-8-f259b919a394>\u001b[0m in \u001b[0;36m<module>\u001b[1;34m()\u001b[0m\n\u001b[0;32m      1\u001b[0m \u001b[1;32mwhile\u001b[0m \u001b[1;36m1\u001b[0m\u001b[1;33m:\u001b[0m\u001b[1;33m\u001b[0m\u001b[0m\n\u001b[0;32m      2\u001b[0m     \u001b[0mkeyword\u001b[0m \u001b[1;33m=\u001b[0m \u001b[0minput\u001b[0m\u001b[1;33m(\u001b[0m\u001b[1;33m)\u001b[0m\u001b[1;33m\u001b[0m\u001b[0m\n\u001b[1;32m----> 3\u001b[1;33m     \u001b[0mprint\u001b[0m\u001b[1;33m(\u001b[0m\u001b[0membedding_model\u001b[0m\u001b[1;33m.\u001b[0m\u001b[0mwv\u001b[0m\u001b[1;33m.\u001b[0m\u001b[0mmost_similar\u001b[0m\u001b[1;33m(\u001b[0m\u001b[0mpositive\u001b[0m \u001b[1;33m=\u001b[0m \u001b[0mkeyword\u001b[0m\u001b[1;33m,\u001b[0m \u001b[0mtopn\u001b[0m \u001b[1;33m=\u001b[0m \u001b[1;36m10\u001b[0m\u001b[1;33m)\u001b[0m\u001b[1;33m)\u001b[0m\u001b[1;33m\u001b[0m\u001b[0m\n\u001b[0m",
      "\u001b[1;32mE:\\anaconda\\anaocnda\\lib\\site-packages\\gensim\\models\\keyedvectors.py\u001b[0m in \u001b[0;36mmost_similar\u001b[1;34m(self, positive, negative, topn, restrict_vocab, indexer)\u001b[0m\n\u001b[0;32m    551\u001b[0m                 \u001b[0mmean\u001b[0m\u001b[1;33m.\u001b[0m\u001b[0mappend\u001b[0m\u001b[1;33m(\u001b[0m\u001b[0mweight\u001b[0m \u001b[1;33m*\u001b[0m \u001b[0mword\u001b[0m\u001b[1;33m)\u001b[0m\u001b[1;33m\u001b[0m\u001b[0m\n\u001b[0;32m    552\u001b[0m             \u001b[1;32melse\u001b[0m\u001b[1;33m:\u001b[0m\u001b[1;33m\u001b[0m\u001b[0m\n\u001b[1;32m--> 553\u001b[1;33m                 \u001b[0mmean\u001b[0m\u001b[1;33m.\u001b[0m\u001b[0mappend\u001b[0m\u001b[1;33m(\u001b[0m\u001b[0mweight\u001b[0m \u001b[1;33m*\u001b[0m \u001b[0mself\u001b[0m\u001b[1;33m.\u001b[0m\u001b[0mword_vec\u001b[0m\u001b[1;33m(\u001b[0m\u001b[0mword\u001b[0m\u001b[1;33m,\u001b[0m \u001b[0muse_norm\u001b[0m\u001b[1;33m=\u001b[0m\u001b[1;32mTrue\u001b[0m\u001b[1;33m)\u001b[0m\u001b[1;33m)\u001b[0m\u001b[1;33m\u001b[0m\u001b[0m\n\u001b[0m\u001b[0;32m    554\u001b[0m                 \u001b[1;32mif\u001b[0m \u001b[0mword\u001b[0m \u001b[1;32min\u001b[0m \u001b[0mself\u001b[0m\u001b[1;33m.\u001b[0m\u001b[0mvocab\u001b[0m\u001b[1;33m:\u001b[0m\u001b[1;33m\u001b[0m\u001b[0m\n\u001b[0;32m    555\u001b[0m                     \u001b[0mall_words\u001b[0m\u001b[1;33m.\u001b[0m\u001b[0madd\u001b[0m\u001b[1;33m(\u001b[0m\u001b[0mself\u001b[0m\u001b[1;33m.\u001b[0m\u001b[0mvocab\u001b[0m\u001b[1;33m[\u001b[0m\u001b[0mword\u001b[0m\u001b[1;33m]\u001b[0m\u001b[1;33m.\u001b[0m\u001b[0mindex\u001b[0m\u001b[1;33m)\u001b[0m\u001b[1;33m\u001b[0m\u001b[0m\n",
      "\u001b[1;32mE:\\anaconda\\anaocnda\\lib\\site-packages\\gensim\\models\\keyedvectors.py\u001b[0m in \u001b[0;36mword_vec\u001b[1;34m(self, word, use_norm)\u001b[0m\n\u001b[0;32m    466\u001b[0m             \u001b[1;32mreturn\u001b[0m \u001b[0mresult\u001b[0m\u001b[1;33m\u001b[0m\u001b[0m\n\u001b[0;32m    467\u001b[0m         \u001b[1;32melse\u001b[0m\u001b[1;33m:\u001b[0m\u001b[1;33m\u001b[0m\u001b[0m\n\u001b[1;32m--> 468\u001b[1;33m             \u001b[1;32mraise\u001b[0m \u001b[0mKeyError\u001b[0m\u001b[1;33m(\u001b[0m\u001b[1;34m\"word '%s' not in vocabulary\"\u001b[0m \u001b[1;33m%\u001b[0m \u001b[0mword\u001b[0m\u001b[1;33m)\u001b[0m\u001b[1;33m\u001b[0m\u001b[0m\n\u001b[0m\u001b[0;32m    469\u001b[0m \u001b[1;33m\u001b[0m\u001b[0m\n\u001b[0;32m    470\u001b[0m     \u001b[1;32mdef\u001b[0m \u001b[0mget_vector\u001b[0m\u001b[1;33m(\u001b[0m\u001b[0mself\u001b[0m\u001b[1;33m,\u001b[0m \u001b[0mword\u001b[0m\u001b[1;33m)\u001b[0m\u001b[1;33m:\u001b[0m\u001b[1;33m\u001b[0m\u001b[0m\n",
      "\u001b[1;31mKeyError\u001b[0m: \"word '국민' not in vocabulary\""
     ]
    }
   ],
   "source": [
    "while 1:\n",
    "    keyword = input()\n",
    "    print(embedding_model.wv.most_similar(positive = keyword, topn = 10))"
   ]
  }
 ],
 "metadata": {
  "kernelspec": {
   "display_name": "Python 3",
   "language": "python",
   "name": "python3"
  },
  "language_info": {
   "codemirror_mode": {
    "name": "ipython",
    "version": 3
   },
   "file_extension": ".py",
   "mimetype": "text/x-python",
   "name": "python",
   "nbconvert_exporter": "python",
   "pygments_lexer": "ipython3",
   "version": "3.7.0"
  }
 },
 "nbformat": 4,
 "nbformat_minor": 2
}
