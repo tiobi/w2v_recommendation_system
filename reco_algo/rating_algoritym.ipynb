{
 "cells": [
  {
   "cell_type": "markdown",
   "metadata": {},
   "source": [
    "## load lib"
   ]
  },
  {
   "cell_type": "code",
   "execution_count": 130,
   "metadata": {},
   "outputs": [],
   "source": [
    "import pandas as pd\n",
    "from pandas import DataFrame\n",
    "import csv\n",
    "import numpy as np"
   ]
  },
  {
   "cell_type": "markdown",
   "metadata": {},
   "source": [
    "## load file for attributes"
   ]
  },
  {
   "cell_type": "code",
   "execution_count": 278,
   "metadata": {},
   "outputs": [],
   "source": [
    "attribute_file = \"./source/lib/attribute.csv\"\n",
    "f = open(attribute_file, \"r\", encoding = \"utf-8\")\n",
    "data = csv.reader(f)\n",
    "f.close\n",
    "next(data)\n",
    "attributes = []\n",
    "for row in data:\n",
    "    if row[-1]:\n",
    "        attributes.append(row[0])"
   ]
  },
  {
   "cell_type": "code",
   "execution_count": 279,
   "metadata": {},
   "outputs": [
    {
     "data": {
      "text/plain": [
       "['짜다',\n",
       " '저렴하다',\n",
       " '맛있다',\n",
       " '맵다',\n",
       " '느끼하다',\n",
       " '유명하다',\n",
       " '달다',\n",
       " '고소하다',\n",
       " '신선하다',\n",
       " '고급스럽다',\n",
       " '뜨겁다']"
      ]
     },
     "execution_count": 279,
     "metadata": {},
     "output_type": "execute_result"
    }
   ],
   "source": [
    "attributes"
   ]
  },
  {
   "cell_type": "markdown",
   "metadata": {},
   "source": [
    "## save root"
   ]
  },
  {
   "cell_type": "code",
   "execution_count": 322,
   "metadata": {},
   "outputs": [],
   "source": [
    "from gensim.models.word2vec import Word2Vec\n",
    "\n",
    "criteria_brand = [\"삼양라면\"]\n",
    "criteria_attributes = []\n",
    "\n",
    "root_model = \"./source/model/word2vec_라면_total.model\"\n",
    "model = Word2Vec.load(root_model)\n",
    "\n",
    "for attribute in attributes:\n",
    "    if model.wv.similarity(criteria_brand, attribute)[0] > 0.5:\n",
    "        criteria_attributes.append(attribute)\n",
    "        \n",
    "coeff = pd.DataFrame()\n",
    "coeff = pd.DataFrame(coeff, columns = criteria_attributes, index = criteria_brand)\n",
    "for c_attribute in criteria_attributes:\n",
    "    buff = float(np.round(((model.wv.similarity(criteria_brand, c_attribute) + 1) / 2), 5))\n",
    "    coeff[c_attribute] = buff\n",
    "    \n"
   ]
  },
  {
   "cell_type": "code",
   "execution_count": 323,
   "metadata": {},
   "outputs": [
    {
     "data": {
      "text/html": [
       "<div>\n",
       "<style scoped>\n",
       "    .dataframe tbody tr th:only-of-type {\n",
       "        vertical-align: middle;\n",
       "    }\n",
       "\n",
       "    .dataframe tbody tr th {\n",
       "        vertical-align: top;\n",
       "    }\n",
       "\n",
       "    .dataframe thead th {\n",
       "        text-align: right;\n",
       "    }\n",
       "</style>\n",
       "<table border=\"1\" class=\"dataframe\">\n",
       "  <thead>\n",
       "    <tr style=\"text-align: right;\">\n",
       "      <th></th>\n",
       "      <th>저렴하다</th>\n",
       "      <th>맵다</th>\n",
       "      <th>느끼하다</th>\n",
       "      <th>유명하다</th>\n",
       "      <th>달다</th>\n",
       "      <th>고소하다</th>\n",
       "      <th>고급스럽다</th>\n",
       "    </tr>\n",
       "  </thead>\n",
       "  <tbody>\n",
       "    <tr>\n",
       "      <th>삼양라면</th>\n",
       "      <td>0.79225</td>\n",
       "      <td>0.80365</td>\n",
       "      <td>0.77332</td>\n",
       "      <td>0.85229</td>\n",
       "      <td>0.78347</td>\n",
       "      <td>0.76139</td>\n",
       "      <td>0.83765</td>\n",
       "    </tr>\n",
       "  </tbody>\n",
       "</table>\n",
       "</div>"
      ],
      "text/plain": [
       "         저렴하다       맵다     느끼하다     유명하다       달다     고소하다    고급스럽다\n",
       "삼양라면  0.79225  0.80365  0.77332  0.85229  0.78347  0.76139  0.83765"
      ]
     },
     "execution_count": 323,
     "metadata": {},
     "output_type": "execute_result"
    }
   ],
   "source": [
    "coeff"
   ]
  },
  {
   "cell_type": "markdown",
   "metadata": {},
   "source": [
    "## load models for comparison "
   ]
  },
  {
   "cell_type": "code",
   "execution_count": 213,
   "metadata": {},
   "outputs": [],
   "source": [
    "comparison_file = \"./source/lib/brands.csv\"\n",
    "f = open(comparison_file, \"r\", encoding = \"utf-8\")\n",
    "data = csv.reader(f)\n",
    "f.close\n",
    "next(data)\n",
    "brands = []\n",
    "for row in data:\n",
    "    # 브랜드라면 brands에 추가\n",
    "    if row[-1]:\n",
    "        brands.append(row[0])\n",
    "\n",
    "comp_model_file =\"./source/model/word2vec_치킨_total.model\"\n",
    "comp_model = Word2Vec.load(comp_model_file)\n"
   ]
  },
  {
   "cell_type": "code",
   "execution_count": 214,
   "metadata": {},
   "outputs": [
    {
     "data": {
      "text/plain": [
       "[('식', 0.7238513231277466),\n",
       " ('식이', 0.6695153713226318),\n",
       " ('젠', 0.6276451349258423),\n",
       " ('뿐', 0.6236096620559692),\n",
       " ('나라', 0.6216815710067749),\n",
       " ('순삭', 0.6215479969978333),\n",
       " ('꼬식', 0.6209991574287415),\n",
       " ('비다', 0.620478630065918),\n",
       " ('모자라다', 0.6179180145263672),\n",
       " ('편', 0.6175099015235901)]"
      ]
     },
     "execution_count": 214,
     "metadata": {},
     "output_type": "execute_result"
    }
   ],
   "source": [
    "comp_model.wv.most_similar(\"호식이\")"
   ]
  },
  {
   "cell_type": "markdown",
   "metadata": {},
   "source": [
    "## calculate rating\n",
    "### 설명:\n",
    "### model.vw.similarity() 는 -1 (극단적으로 멀다) 과 1 (극단적으로 가깝다)사이의 값이 나옴.\n",
    "### 그 둘을 확률처럼 변형하고 곱한 것이 rating\n",
    "### total rating은 10점 만점으로 나타냄"
   ]
  },
  {
   "cell_type": "code",
   "execution_count": 324,
   "metadata": {},
   "outputs": [],
   "source": [
    "rating = pd.DataFrame()\n",
    "rating = pd.DataFrame(rating, columns = criteria_attributes, index = brands)\n",
    "\n",
    "# attribute와 brands의 similarity와 coeff의 곱을 rating에 저장\n",
    "for c_attribute in criteria_attributes:\n",
    "    for brand in brands:\n",
    "        rating.loc[brand, c_attribute] = round((((comp_model.wv.similarity(brand, c_attribute) + 1) / 2 ) * coeff.loc[criteria_brand[0], c_attribute]), 5)\n",
    "#total of columns 추가\n",
    "rating[\"total\"] = (rating.sum(axis = 1))/len(criteria_attributes) * 10"
   ]
  },
  {
   "cell_type": "code",
   "execution_count": 327,
   "metadata": {},
   "outputs": [
    {
     "data": {
      "text/html": [
       "<div>\n",
       "<style scoped>\n",
       "    .dataframe tbody tr th:only-of-type {\n",
       "        vertical-align: middle;\n",
       "    }\n",
       "\n",
       "    .dataframe tbody tr th {\n",
       "        vertical-align: top;\n",
       "    }\n",
       "\n",
       "    .dataframe thead th {\n",
       "        text-align: right;\n",
       "    }\n",
       "</style>\n",
       "<table border=\"1\" class=\"dataframe\">\n",
       "  <thead>\n",
       "    <tr style=\"text-align: right;\">\n",
       "      <th></th>\n",
       "      <th>저렴하다</th>\n",
       "      <th>맵다</th>\n",
       "      <th>느끼하다</th>\n",
       "      <th>유명하다</th>\n",
       "      <th>달다</th>\n",
       "      <th>고소하다</th>\n",
       "      <th>고급스럽다</th>\n",
       "      <th>total</th>\n",
       "    </tr>\n",
       "  </thead>\n",
       "  <tbody>\n",
       "    <tr>\n",
       "      <th>뿌링클</th>\n",
       "      <td>0.64025</td>\n",
       "      <td>0.58937</td>\n",
       "      <td>0.59680</td>\n",
       "      <td>0.70541</td>\n",
       "      <td>0.61997</td>\n",
       "      <td>0.57791</td>\n",
       "      <td>0.65422</td>\n",
       "      <td>6.262757</td>\n",
       "    </tr>\n",
       "    <tr>\n",
       "      <th>레드콤보</th>\n",
       "      <td>0.61001</td>\n",
       "      <td>0.59740</td>\n",
       "      <td>0.60170</td>\n",
       "      <td>0.69099</td>\n",
       "      <td>0.59836</td>\n",
       "      <td>0.58423</td>\n",
       "      <td>0.63219</td>\n",
       "      <td>6.164114</td>\n",
       "    </tr>\n",
       "    <tr>\n",
       "      <th>황금올리브</th>\n",
       "      <td>0.62173</td>\n",
       "      <td>0.58017</td>\n",
       "      <td>0.54918</td>\n",
       "      <td>0.68103</td>\n",
       "      <td>0.55748</td>\n",
       "      <td>0.55722</td>\n",
       "      <td>0.63781</td>\n",
       "      <td>5.978029</td>\n",
       "    </tr>\n",
       "    <tr>\n",
       "      <th>푸라닭</th>\n",
       "      <td>0.62602</td>\n",
       "      <td>0.61060</td>\n",
       "      <td>0.52408</td>\n",
       "      <td>0.69793</td>\n",
       "      <td>0.57575</td>\n",
       "      <td>0.53366</td>\n",
       "      <td>0.62905</td>\n",
       "      <td>5.995843</td>\n",
       "    </tr>\n",
       "    <tr>\n",
       "      <th>호식이</th>\n",
       "      <td>0.58516</td>\n",
       "      <td>0.57236</td>\n",
       "      <td>0.55828</td>\n",
       "      <td>0.65595</td>\n",
       "      <td>0.58565</td>\n",
       "      <td>0.51334</td>\n",
       "      <td>0.62428</td>\n",
       "      <td>5.850029</td>\n",
       "    </tr>\n",
       "  </tbody>\n",
       "</table>\n",
       "</div>"
      ],
      "text/plain": [
       "          저렴하다       맵다     느끼하다     유명하다       달다     고소하다    고급스럽다     total\n",
       "뿌링클    0.64025  0.58937  0.59680  0.70541  0.61997  0.57791  0.65422  6.262757\n",
       "레드콤보   0.61001  0.59740  0.60170  0.69099  0.59836  0.58423  0.63219  6.164114\n",
       "황금올리브  0.62173  0.58017  0.54918  0.68103  0.55748  0.55722  0.63781  5.978029\n",
       "푸라닭    0.62602  0.61060  0.52408  0.69793  0.57575  0.53366  0.62905  5.995843\n",
       "호식이    0.58516  0.57236  0.55828  0.65595  0.58565  0.51334  0.62428  5.850029"
      ]
     },
     "metadata": {},
     "output_type": "display_data"
    }
   ],
   "source": [
    "display(rating)"
   ]
  },
  {
   "cell_type": "code",
   "execution_count": 139,
   "metadata": {
    "scrolled": false
   },
   "outputs": [
    {
     "data": {
      "text/plain": [
       "짜다        짜파게티\n",
       "저렴하다     불닭볶음면\n",
       "맛있다       짜파게티\n",
       "맵다       불닭볶음면\n",
       "느끼하다     불닭볶음면\n",
       "다이어트      짜파게티\n",
       "달다         진라면\n",
       "유명하다       진라면\n",
       "비싸다        신라면\n",
       "total      진라면\n",
       "dtype: object"
      ]
     },
     "execution_count": 139,
     "metadata": {},
     "output_type": "execute_result"
    }
   ],
   "source": [
    "rating.idxmax()"
   ]
  }
 ],
 "metadata": {
  "kernelspec": {
   "display_name": "Python 3",
   "language": "python",
   "name": "python3"
  },
  "language_info": {
   "codemirror_mode": {
    "name": "ipython",
    "version": 3
   },
   "file_extension": ".py",
   "mimetype": "text/x-python",
   "name": "python",
   "nbconvert_exporter": "python",
   "pygments_lexer": "ipython3",
   "version": "3.7.6"
  }
 },
 "nbformat": 4,
 "nbformat_minor": 2
}
